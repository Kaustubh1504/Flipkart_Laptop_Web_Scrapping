{
  "cells": [
    {
      "cell_type": "code",
      "execution_count": null,
      "metadata": {
        "colab": {
          "background_save": true,
          "base_uri": "https://localhost:8080/"
        },
        "id": "pZ04A_p2atWQ",
        "outputId": "769dd51c-8ee9-4704-d7ac-ec0ad3fcfed4"
      },
      "outputs": [
        {
          "name": "stdout",
          "output_type": "stream",
          "text": [
            "Looking in indexes: https://pypi.org/simple, https://us-python.pkg.dev/colab-wheels/public/simple/\n",
            "Collecting aspose-words\n",
            "  Downloading aspose_words-22.11.0-py3-none-manylinux1_x86_64.whl (68.7 MB)\n",
            "\u001b[K     |████████████████████████████████| 68.7 MB 96 kB/s \n",
            "\u001b[?25hInstalling collected packages: aspose-words\n",
            "Successfully installed aspose-words-22.11.0\n"
          ]
        }
      ],
      "source": [
        "pip install aspose-words"
      ]
    },
    {
      "cell_type": "code",
      "execution_count": null,
      "metadata": {
        "id": "5tIMQ2oaauis"
      },
      "outputs": [],
      "source": [
        "from bs4 import BeautifulSoup \n",
        "import requests as req\n",
        "import csv\n",
        "import pandas as pd\n",
        "import aspose.words as aw\n",
        "import webbrowser\n",
        "import re\n",
        "import pandas as pd\n",
        "i=0\n",
        "j=0\n",
        "k=0\n",
        "y=0"
      ]
    },
    {
      "cell_type": "code",
      "execution_count": null,
      "metadata": {
        "colab": {
          "base_uri": "https://localhost:8080/"
        },
        "id": "8ECieTk4a0SE",
        "outputId": "6cb0fe42-9318-4820-8dbb-6924eb8075d4"
      },
      "outputs": [
        {
          "name": "stdout",
          "output_type": "stream",
          "text": [
            "Enter the url for the laptops:  https://www.flipkart.com/search?q=lenovo+laptop&sid=4rr%2Ctz1&as=on&as-show=on&otracker=AS_QueryStore_OrganicAutoSuggest_2_13_na_na_na&otracker1=AS_QueryStore_OrganicAutoSuggest_2_13_na_na_na&as-pos=2&as-type=RECENT&suggestionId=lenovo+laptop%7CGaming+Laptops&requestId=4f7f1beb-0965-43b1-b031-5670b454faea&as-searchtext=lenovo+laptop&page=2\n"
          ]
        }
      ],
      "source": [
        "from numpy import short\n",
        "#url=\"https://www.flipkart.com/search?q=laptop&sid=6bo%2Cb5g&as=on&as-show=on&otracker=AS_QueryStore_OrganicAutoSuggest_1_6_na_na_na&otracker1=AS_QueryStore_OrganicAutoSuggest_1_6_na_na_na&as-pos=1&as-type=RECENT&suggestionId=laptop%7CLaptops&requestId=7ec220e8-4f02-4150-9e0b-9e90cf692f4b&as-searchtext=laptop\"\n",
        "#url=\"https://www.flipkart.com/search?q=asus+laptop&sid=6bo%2Cb5g&as=on&as-show=on&otracker=AS_QueryStore_OrganicAutoSuggest_1_5_na_na_na&otracker1=AS_QueryStore_OrganicAutoSuggest_1_5_na_na_na&as-pos=1&as-type=RECENT&suggestionId=asus+laptop%7CLaptops&requestId=d32f132a-9b2b-4973-bdae-50639fc99720&as-searchtext=asus%20\"\n",
        "url=input(\"Enter the url for the laptops:  \")\n",
        "response= req.get(url)\n",
        "\n",
        "htmlcontent = response.content\n",
        "\n",
        "soup = BeautifulSoup(htmlcontent,\"html.parser\")\n",
        "\n",
        "#print(soup.prettify)\n",
        "\n",
        "products=[]\n",
        "\n",
        "prices=[]\n",
        "\n",
        "ratings=[]\n",
        "\n",
        "links=[]\n",
        "\n",
        "description=[]\n",
        "\n",
        "short_description=[]\n",
        "\n",
        "product_image= []\n",
        "image_gallery= []\n",
        "\n",
        "product=soup.find('div',attrs={'class':'_4rR01T'})\n",
        "\n",
        "#print(product.text)\n",
        "\n",
        "for a in soup.findAll('a',href=True, attrs={'class':'_1fQZEK'}):\n",
        "\n",
        "  #name=a.find('div',attrs={'class':'_4rR01T'})\n",
        "\n",
        "  price=a.find('div',attrs={'class':'_30jeq3 _1_WHN1'})\n",
        "\n",
        "  rating=a.find('div',attrs={'class':'_3LWZlK'})\n",
        "\n",
        "  \n",
        "  trim = re.compile(r'[^\\d.,]+')\n",
        "  result = trim.sub('', price.text)\n",
        "  prices.append(result)\n",
        "\n",
        "  short_des=a.find('div',attrs={'class':'fMghEO'})\n",
        "  #print(short_des)\n",
        "  short_description.append(short_des)\n",
        "  \n",
        "  #links.append(link)\n",
        "  #print(link)\n",
        "\n",
        "  #ratings.append(rating.text)\n",
        "for link in soup.select('div._2kHMtA  a'):\n",
        "    l= f'https://www.flipkart.com{link[\"href\"]}'\n",
        "    links.append(l)\n",
        "    #description from individual page\n",
        "    url2=l;\n",
        "    response2= req.get(url2)\n",
        "\n",
        "    htmlcontent2 = response2.content\n",
        "\n",
        "    soup2 = BeautifulSoup(htmlcontent2,\"html.parser\")\n",
        "\n",
        "    soup2.prettify()\n",
        "    tables = soup2.find('div',attrs={'class':'_3dtsli'})\n",
        "     \n",
        "    des=''\n",
        "    for x in tables:\n",
        "      des+=' '+ str(x)\n",
        "  \n",
        "    \n",
        "    description.append(des)\n",
        "\n",
        "    name=soup2.find('h1')\n",
        "    products.append(name.text)\n",
        "    small_images_src=[]\n",
        "    small_imgs=soup2.findAll('div',attrs={'class':'_2E1FGS'})\n",
        "    \n",
        "\n",
        "    \n",
        "    s11=str(small_imgs[0])\n",
        "    s22=re.findall('\"([^\"]*)\"', s11)\n",
        "\n",
        "   \n",
        "    product_image.append(s22[2])\n",
        "\n",
        "    temp_list=[]\n",
        "    for i in range (1,len(small_imgs)):\n",
        "      s44=str(small_imgs[i])\n",
        "      s55=re.findall('\"([^\"]*)\"', s44)\n",
        "      temp_list.append(s55[2])\n",
        "\n",
        "    image_gallery.append(temp_list)\n",
        "\n",
        "df = pd.DataFrame({'Name':products,'regular price':prices,'Links':links,'Description':description,'Short Description':short_description,'image':product_image,'image_gallery':image_gallery,'brand':\"Acer\"})\n",
        "\n",
        "#df.head()\n",
        "df\n",
        "y=y+1\n",
        "df.to_csv(f'lenovo_products{y}.csv')\n",
        "\n",
        "\n",
        "\n",
        "\n"
      ]
    },
    {
      "cell_type": "code",
      "execution_count": null,
      "metadata": {
        "id": "ueiIEm5xMjth"
      },
      "outputs": [],
      "source": []
    },
    {
      "cell_type": "code",
      "execution_count": null,
      "metadata": {
        "id": "yZPjhEnefFVn"
      },
      "outputs": [],
      "source": []
    }
  ],
  "metadata": {
    "colab": {
      "provenance": []
    },
    "kernelspec": {
      "display_name": "Python 3",
      "name": "python3"
    },
    "language_info": {
      "name": "python"
    }
  },
  "nbformat": 4,
  "nbformat_minor": 0
}